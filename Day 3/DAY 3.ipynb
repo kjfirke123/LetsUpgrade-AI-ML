{
 "cells": [
  {
   "cell_type": "raw",
   "metadata": {},
   "source": [
    "Question 1 :\n",
    "Write a program to subtract two complex numbers in Python.\n"
   ]
  },
  {
   "cell_type": "code",
   "execution_count": 2,
   "metadata": {},
   "outputs": [
    {
     "name": "stdout",
     "output_type": "stream",
     "text": [
      "subtraction of two numbers is :  (5+3j)\n"
     ]
    }
   ],
   "source": [
    "a = 5+2j\n",
    "b = 10+5j\n",
    "c = b-a\n",
    "print(\"subtraction of two numbers is : \",c)"
   ]
  },
  {
   "cell_type": "raw",
   "metadata": {},
   "source": [
    "Question 2 :\n",
    "Write a program to find the fourth root of a number.\n"
   ]
  },
  {
   "cell_type": "code",
   "execution_count": 3,
   "metadata": {},
   "outputs": [
    {
     "name": "stdout",
     "output_type": "stream",
     "text": [
      "enter a number whose fourth root is to be found 16\n",
      "fourth root of given number is :  2.0\n"
     ]
    }
   ],
   "source": [
    "a = int(input(\"enter a number whose fourth root is to be found \"))\n",
    "fourth_root = a**0.25\n",
    "print(\"fourth root of given number is : \",fourth_root)\n"
   ]
  },
  {
   "cell_type": "raw",
   "metadata": {},
   "source": [
    "Question 3:\n",
    "Write a program to swap two numbers in Python with the help of a temporary variable.\n"
   ]
  },
  {
   "cell_type": "code",
   "execution_count": 7,
   "metadata": {},
   "outputs": [
    {
     "name": "stdout",
     "output_type": "stream",
     "text": [
      "enter 1st number 10\n",
      "enter 2nd number 20\n",
      "value of a is : 20 value of b is : 10\n"
     ]
    }
   ],
   "source": [
    "a = int(input(\"enter 1st number \"))\n",
    "b = int(input(\"enter 2nd number \"))\n",
    "c = b\n",
    "b = a\n",
    "a = c\n",
    "print(\"value of a is :\",a ,\"value of b is :\",b)"
   ]
  },
  {
   "cell_type": "raw",
   "metadata": {},
   "source": [
    "Question 4:\n",
    "Write a program to swap two numbers in Python without using a temporary variable"
   ]
  },
  {
   "cell_type": "code",
   "execution_count": 8,
   "metadata": {},
   "outputs": [
    {
     "name": "stdout",
     "output_type": "stream",
     "text": [
      "enter 1st number 20\n",
      "enter 2nd number 50\n",
      "values before swapping\n",
      "value of a is : 20 value of b is : 50\n",
      "values before swapping\n",
      "value of a is : 50 value of b is : 20\n"
     ]
    }
   ],
   "source": [
    "a = int(input(\"enter 1st number \"))\n",
    "b = int(input(\"enter 2nd number \"))\n",
    "print(\"values before swapping\")\n",
    "print(\"value of a is :\",a ,\"value of b is :\",b)\n",
    "a,b = b,a\n",
    "print(\"values before swapping\")\n",
    "print(\"value of a is :\",a ,\"value of b is :\",b)"
   ]
  },
  {
   "cell_type": "raw",
   "metadata": {},
   "source": [
    "Question 5:\n",
    "Write a program to convert fahrenheit to kelvin and celsius both"
   ]
  },
  {
   "cell_type": "code",
   "execution_count": 13,
   "metadata": {},
   "outputs": [
    {
     "name": "stdout",
     "output_type": "stream",
     "text": [
      "enter degrees of farenheit 32\n",
      "Fahrenheit to Kelvin  273.15\n",
      "Fahrenheit to Celsius  0.0\n"
     ]
    }
   ],
   "source": [
    "fahrenheit = int(input(\"enter degrees of farenheit \"))\n",
    "kelvin = (fahrenheit-32)* 5/9 + 273.15\n",
    "print(\"Fahrenheit to Kelvin \",kelvin)\n",
    "celsius = (fahrenheit-32)* 5/9\n",
    "print(\"Fahrenheit to Celsius \",celsius)\n"
   ]
  },
  {
   "cell_type": "raw",
   "metadata": {},
   "source": [
    "Question 6:\n",
    "Write a program to demonstrate all the available data types in Python. Hint: Use type() function.\n"
   ]
  },
  {
   "cell_type": "code",
   "execution_count": 16,
   "metadata": {},
   "outputs": [
    {
     "name": "stdout",
     "output_type": "stream",
     "text": [
      "<class 'int'>\n",
      "<class 'str'>\n",
      "<class 'str'>\n",
      "<class 'float'>\n",
      "<class 'complex'>\n",
      "<class 'tuple'>\n",
      "<class 'list'>\n",
      "<class 'dict'>\n"
     ]
    }
   ],
   "source": [
    "a = 5\n",
    "b = \"5\"\n",
    "c = \"hello world\"\n",
    "d = 13.06\n",
    "e = 10+6j\n",
    "f = (10,20,30)\n",
    "g = [40,50,60]\n",
    "h = {\"colour\":\"orange\"\n",
    "    ,\"fruit\":\"apple\"}\n",
    "print(type(a))\n",
    "print(type(b))\n",
    "print(type(c))\n",
    "print(type(d))\n",
    "print(type(e))\n",
    "print(type(f))\n",
    "print(type(g))\n",
    "print(type(h))"
   ]
  },
  {
   "cell_type": "raw",
   "metadata": {},
   "source": [
    "Question 7:\n",
    "Create a Markdown cell in jupyter and list the steps discussed in the session by Dr. Darshan\n",
    "Ingle sir to create Github profile and upload Githubs Assignment link."
   ]
  },
  {
   "cell_type": "markdown",
   "metadata": {},
   "source": [
    "Headings\n",
    "# abc\n",
    "## abc\n",
    "### abc\n",
    "To make words bold we use **:\n",
    "**abc**\n",
    "\n",
    "To make the words italic we use * :\n",
    "*abc*"
   ]
  },
  {
   "cell_type": "code",
   "execution_count": null,
   "metadata": {},
   "outputs": [],
   "source": []
  }
 ],
 "metadata": {
  "kernelspec": {
   "display_name": "Python 3",
   "language": "python",
   "name": "python3"
  },
  "language_info": {
   "codemirror_mode": {
    "name": "ipython",
    "version": 3
   },
   "file_extension": ".py",
   "mimetype": "text/x-python",
   "name": "python",
   "nbconvert_exporter": "python",
   "pygments_lexer": "ipython3",
   "version": "3.7.4"
  }
 },
 "nbformat": 4,
 "nbformat_minor": 2
}
