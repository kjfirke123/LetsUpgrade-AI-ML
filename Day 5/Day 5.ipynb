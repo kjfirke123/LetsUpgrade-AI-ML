{
 "cells": [
  {
   "cell_type": "raw",
   "metadata": {},
   "source": [
    "Question 1 :\n",
    "Write a Python program to find the first 20 non-even prime natural numbers.\n"
   ]
  },
  {
   "cell_type": "code",
   "execution_count": 37,
   "metadata": {},
   "outputs": [
    {
     "name": "stdout",
     "output_type": "stream",
     "text": [
      "[3, 5, 7, 9, 11, 13, 15, 17, 19, 21, 23, 25, 27, 29, 31, 33, 35, 37, 39, 41]\n"
     ]
    }
   ],
   "source": [
    "prime_list=[]\n",
    "a = 3\n",
    "while len(prime_list)<20:\n",
    "    if(a%2)!=0:\n",
    "        for i in range(2,a):\n",
    "            if(a%i)!=0:\n",
    "                prime_list.append(a)\n",
    "                break\n",
    "            \n",
    "    a=a+1        \n",
    "    \n",
    "print(prime_list)\n",
    "\n",
    "                   "
   ]
  },
  {
   "cell_type": "raw",
   "metadata": {},
   "source": [
    "Question 2 :\n",
    "Write a Python program to implement 15 functions of string."
   ]
  },
  {
   "cell_type": "code",
   "execution_count": 59,
   "metadata": {},
   "outputs": [
    {
     "name": "stdout",
     "output_type": "stream",
     "text": [
      "hello dudepython\n",
      "Hello dude Python\n",
      "True\n",
      "False\n",
      "True\n",
      "tello dude\n",
      "16\n",
      "2\n",
      "HELLO DUDE\n",
      "HELLO DUDE PYTHON\n",
      "2\n",
      "3\n",
      "False\n",
      "('sf', 'sff', 'fssfsff')\n",
      "['hello dude']\n"
     ]
    }
   ],
   "source": [
    "s1 = 'hello dude'\n",
    "s2 = 'python'\n",
    "s3 = 'sfsfffssfsff'\n",
    "s4 = 'hello_world'\n",
    "print(s1+s2)\n",
    "print(s1.capitalize()+\" \"+s2.capitalize())\n",
    "print(s1.islower())\n",
    "print(s2.isdigit())\n",
    "print(s2.isalpha())\n",
    "print(s1.replace('h','t'))\n",
    "print(len(s1+s2))\n",
    "print(s2.find('t'))\n",
    "print(s1.swapcase())\n",
    "print(s1.upper()+\" \"+s2.upper())\n",
    "print(s3.count('sff'))\n",
    "print(s2.index('h'))\n",
    "print(s3.isspace())\n",
    "print(s3.partition('sff'))\n",
    "print(s1.split('_'))\n"
   ]
  },
  {
   "cell_type": "code",
   "execution_count": 18,
   "metadata": {},
   "outputs": [
    {
     "name": "stdout",
     "output_type": "stream",
     "text": [
      "enter string no 1: racecar\n",
      "enter string no 2: crarce\n",
      "string is palindrome\n"
     ]
    }
   ],
   "source": [
    "string_1 = input(\"enter string no 1: \")\n",
    "string_2 = input(\"enter string no 2: \")\n",
    "string_3 = string_1[::-1]\n",
    "if string_1==string_3:\n",
    "    print(\"string is palindrome\")\n",
    "elif(sorted(string_1)==sorted(string_2)):\n",
    "     print(\"string is anagram\")\n",
    "else:\n",
    "    print(\"string is neither palindrome nor anagram\")"
   ]
  },
  {
   "cell_type": "raw",
   "metadata": {},
   "source": [
    "Question 4:\n",
    "Write a Python's user defined function that removes all the additional characters from the string\n",
    "and converts it finally to lower case using built-in lower(). eg: If the string is \"Dr. Darshan Ingle\n",
    "@AI-ML Trainer\", then the output be \"drdarshaningleaimltrainer\"."
   ]
  },
  {
   "cell_type": "code",
   "execution_count": 31,
   "metadata": {},
   "outputs": [
    {
     "name": "stdout",
     "output_type": "stream",
     "text": [
      "enter a stringDr. Darshan Ingle @AI-ML Trainer\n",
      "drdarshaningleaimltrainer\n"
     ]
    }
   ],
   "source": [
    "string = input(\"enter a string\")\n",
    "alpha_num = filter(str.isalpha, string)\n",
    "alpha_join = \"\".join(alpha_num)\n",
    "\n",
    "print(alpha_join.lower())"
   ]
  }
 ],
 "metadata": {
  "kernelspec": {
   "display_name": "Python 3",
   "language": "python",
   "name": "python3"
  },
  "language_info": {
   "codemirror_mode": {
    "name": "ipython",
    "version": 3
   },
   "file_extension": ".py",
   "mimetype": "text/x-python",
   "name": "python",
   "nbconvert_exporter": "python",
   "pygments_lexer": "ipython3",
   "version": "3.7.4"
  }
 },
 "nbformat": 4,
 "nbformat_minor": 2
}
